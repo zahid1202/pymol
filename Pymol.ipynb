{
 "cells": [
  {
   "cell_type": "code",
   "execution_count": 3,
   "metadata": {},
   "outputs": [
    {
     "ename": "IndentationError",
     "evalue": "unindent does not match any outer indentation level (<ipython-input-3-33e6f182d890>, line 48)",
     "output_type": "error",
     "traceback": [
      "\u001b[0;36m  File \u001b[0;32m\"<ipython-input-3-33e6f182d890>\"\u001b[0;36m, line \u001b[0;32m48\u001b[0m\n\u001b[0;31m    rgb = hsv_to_rgb(hsv)\u001b[0m\n\u001b[0m                         ^\u001b[0m\n\u001b[0;31mIndentationError\u001b[0m\u001b[0;31m:\u001b[0m unindent does not match any outer indentation level\n"
     ]
    }
   ],
   "source": [
    "#####################################################################\n",
    "#\n",
    "# Colour by object\n",
    "#\n",
    "#####################################################################\n",
    " \n",
    "from pymol import cmd\n",
    "\n",
    "def color_obj(rainbow=0):\n",
    " \n",
    "        \"\"\"\n",
    " \n",
    "AUTHOR \n",
    " \n",
    "        Gareth Stockwell\n",
    " \n",
    "USAGE\n",
    " \n",
    "        color_obj(rainbow=0)\n",
    " \n",
    "        This function colours each object currently in the PyMOL heirarchy\n",
    "        with a different colour.  Colours used are either the 22 named\n",
    "        colours used by PyMOL (in which case the 23rd object, if it exists,\n",
    "        gets the same colour as the first), or are the colours of the rainbow\n",
    " \n",
    "SEE ALSO\n",
    "\n",
    "        util.color_objs()\n",
    "        \"\"\"\n",
    " \n",
    "        # Process arguments\n",
    "        rainbow = int(rainbow)\n",
    " \n",
    "        # Get names of all PyMOL objects\n",
    "        obj_list = cmd.get_names('objects')\n",
    " \n",
    "        if rainbow:\n",
    " \n",
    "           print(\"\\nColouring objects as rainbow\\n\")\n",
    " \n",
    "           nobj = len(obj_list)\n",
    " \n",
    "           # Create colours starting at blue(240) to red(0), using intervals\n",
    "           # of 240/(nobj-1)\n",
    "           for j in range(nobj):\n",
    "                hsv = (240-j*240/(nobj-1), 1, 1)\n",
    "              # Convert to RGB\n",
    "              rgb = hsv_to_rgb(hsv)\n",
    "              # Define the new colour\n",
    "              cmd.set_color(\"col\" + str(j), rgb)\n",
    "                print obj_list[j], rgb\n",
    "              # Colour the object\n",
    "                cmd.color(\"col\" + str(j), obj_list[j])\n",
    " \n",
    "        else:\n",
    " \n",
    "           print \"\\nColouring objects using PyMOL defined colours\\n\"\n",
    " \n",
    "           # List of available colours\n",
    "           colours = ['red', 'green', 'blue', 'yellow', 'violet', 'cyan',    \\\n",
    "           'salmon', 'lime', 'pink', 'slate', 'magenta', 'orange', 'marine', \\\n",
    "           'olive', 'purple', 'teal', 'forest', 'firebrick', 'chocolate',    \\\n",
    "           'wheat', 'white', 'grey' ]\n",
    "           ncolours = len(colours)\n",
    " \n",
    "           # Loop over objects\n",
    "           i = 0\n",
    "           for obj in obj_list:\n",
    "              print \"  \", obj, colours[i]\n",
    "              cmd.color(colours[i], obj)\n",
    "              i = i+1\n",
    "              if(i == ncolours):\n",
    "                 i = 0\n",
    " \n",
    " \n",
    "# HSV to RGB routine taken from Robert L. Campbell's color_b.py script\n",
    "#   See http://pldserver1.biochem.queensu.ca/~rlc/work/pymol/\n",
    "# Original algorithm from: http://www.cs.rit.edu/~ncs/color/t_convert.html\n",
    "def hsv_to_rgb(hsv):\n",
    " \n",
    "        h = float(hsv[0])\n",
    "        s = float(hsv[1])\n",
    "        v = float(hsv[2])\n",
    " \n",
    "        if( s == 0 ) :\n",
    "                #achromatic (grey)\n",
    "                r = g = b = v\n",
    " \n",
    "        else:\n",
    "                # sector 0 to 5\n",
    "                h = h/60.            \n",
    "                i = int(h)\n",
    "                f = h - i                       # factorial part of h\n",
    "                #print h,i,f\n",
    "                p = v * ( 1 - s )\n",
    "                q = v * ( 1 - s * f )\n",
    "                t = v * ( 1 - s * ( 1 - f ) )\n",
    " \n",
    "                if i == 0:\n",
    "                        (r,g,b) = (v,t,p)\n",
    "                elif i == 1:\n",
    "                        (r,g,b) = (q,v,p)\n",
    "                elif i == 2:\n",
    "                        (r,g,b) = (p,v,t)\n",
    "                elif i == 3:\n",
    "                        (r,g,b) = (p,q,v)\n",
    "                elif i == 4:\n",
    "                        (r,g,b) = (t,p,v)\n",
    "                elif i == 5:\n",
    "                        (r,g,b) = (v,p,q)\n",
    "                else:\n",
    "                        (r,g,b) = (v,v,v)\n",
    "                        print \"error, i not equal 1-5\"\n",
    " \n",
    "        return [r,g,b]\n",
    " \n",
    " \n",
    " \n",
    "# Add color_obj to the PyMOL command list \n",
    "cmd.extend(\"color_obj\",color_obj)"
   ]
  },
  {
   "cell_type": "code",
   "execution_count": 1,
   "metadata": {},
   "outputs": [],
   "source": [
    "from pymol import cmd\n",
    "\n",
    "@cmd.extend\n",
    "def residue_stats(selection='all', quiet=1):\n",
    "    '''\n",
    "DESCRIPTION\n",
    "\n",
    "    Count how often each residue is contained in the selection.\n",
    "\n",
    "USAGE\n",
    "\n",
    "    residue_stats [ selection ]\n",
    "\n",
    "EXAMPLE\n",
    "\n",
    "    fetch 1ubq, async=0\n",
    "    residue_stats 1ubq\n",
    "    '''\n",
    "    from collections import defaultdict\n",
    "    rescounts = defaultdict(int)\n",
    "\n",
    "    cmd.iterate('name CA and (' + selection + ')',\n",
    "        'rescounts[resn] += 1',\n",
    "        space={'rescounts': rescounts})\n",
    "\n",
    "    if not int(quiet):\n",
    "        for resn, count in rescounts.items():\n",
    "            print(resn + ': ' + str(count))\n",
    "\n",
    "    return rescounts"
   ]
  },
  {
   "cell_type": "code",
   "execution_count": 3,
   "metadata": {},
   "outputs": [
    {
     "data": {
      "text/plain": [
       "defaultdict(int, {})"
      ]
     },
     "execution_count": 3,
     "metadata": {},
     "output_type": "execute_result"
    }
   ],
   "source": [
    "residue_stats(selection='5NFV', quiet=1)"
   ]
  },
  {
   "cell_type": "code",
   "execution_count": 4,
   "metadata": {},
   "outputs": [],
   "source": [
    "import pymol"
   ]
  },
  {
   "cell_type": "code",
   "execution_count": null,
   "metadata": {},
   "outputs": [],
   "source": [
    "{'REC 1': 'silver',\n",
    " 'REC 2': 'gray',\n",
    " 'WED I': 'hotpink',\n",
    " 'WED II': 'hotpink',\n",
    " 'WED III': 'hotpink',\n",
    " 'PI': 'red',\n",
    " 'BH': 'deeppink',\n",
    " 'Nuc': 'yellow',\n",
    " 'RuvC I': 'blue',\n",
    " 'RuvC II': 'blue',\n",
    " 'RuvC III': 'blue'}"
   ]
  },
  {
   "cell_type": "code",
   "execution_count": null,
   "metadata": {},
   "outputs": [],
   "source": [
    "pep_map = {\"WED I\": range(1, 1+24), \n",
    "           \"REC 1\": range(25, 1+339),\n",
    "           \"REC 2\": range(340, 1+591),\n",
    "           \"WED II\": range(592, 1+662),\n",
    "           \"PI\": range(663, 1+762),\n",
    "           \"WED III\": range(763, 1+892),\n",
    "           \"RuvC I\": range(893, 1+953),\n",
    "           \"BH\": range(954, 1+971),\n",
    "           \"RuvC II\": range(972, 1+1078),\n",
    "           \"Nuc\": range(1079, 1+1254),\n",
    "           \"RuvC III\": range(1255, 1+1300)}"
   ]
  },
  {
   "cell_type": "code",
   "execution_count": 4,
   "metadata": {},
   "outputs": [],
   "source": [
    "colours = ['red', 'green', 'blue', 'yellow', 'violet', 'cyan',    \\\n",
    "'salmon', 'lime', 'pink', 'slate', 'magenta', 'orange', 'marine', \\\n",
    "'olive', 'purple', 'teal', 'forest', 'firebrick', 'chocolate',    \\\n",
    "'wheat', 'white', 'grey' ]"
   ]
  },
  {
   "cell_type": "code",
   "execution_count": null,
   "metadata": {},
   "outputs": [],
   "source": []
  },
  {
   "cell_type": "code",
   "execution_count": 6,
   "metadata": {},
   "outputs": [],
   "source": [
    "# Fetching the structure\n",
    "cmd.fetch(\"5NFV\")\n",
    "# Hiding the structure\n",
    "cmd.hide()\n",
    "# Showing as cartoon\n",
    "cmd.show(\"cartoon\")\n",
    "# REC 1\n",
    "cmd.color(\"grey\", \"resi 24-338\")\n",
    "# REC 2\n",
    "cmd.color(\"gray3\", \"resi 339-590\")\n",
    "# WEDGE\n",
    "cmd.color(\"pink\", \"resi 591-661 + resi 762-891+ resi 1-23\")\n",
    "# PI\n",
    "cmd.color(\"red\", \"resi 662-761\")\n",
    "# BH\n",
    "cmd.color('purple', \"resi 953-969\")\n",
    "# Ruvc\n",
    "cmd.color(\"blue\", \"resi 892-952 + resi 970-1077+ resi 1253-1300\")\n",
    "# Nuc\n",
    "cmd.color(\"yellow\", \"resi 1078-1252\")\n",
    "\n",
    "cmd.show(\"cartoon\", \"resi 892-1077+ resi 1254-1300\")\n",
    "cmd.show(\"cartoon\", \"chain B  + chain C + chain D +  chain H\")\n",
    "\n",
    "cmd.color(\"orange\", \"chain B\")\n",
    "cmd.color(\"marine\", \"chain C\")\n",
    "cmd.color(\"black\", \"chain D\")\n",
    "cmd.color(\"orange\", \"chain H\")"
   ]
  },
  {
   "cell_type": "code",
   "execution_count": null,
   "metadata": {},
   "outputs": [],
   "source": [
    "# RuvC domain 5NFV, 5NG6\n",
    "cmd.hide()\n",
    "cmd.show(\"cartoon\", \"resi 892-1077+ resi 1254-1300\")\n",
    "cmd.show(\"cartoon\", \"chain B  + chain C + chain D +  chain H\")\n",
    "\n",
    "cmd.color(\"orange\", \"chain B\")\n",
    "cmd.color(\"marine\", \"chain C\")\n",
    "cmd.color(\"black\", \"chain D\")\n",
    "cmd.color(\"orange\", \"chain H\")\n",
    "\n",
    "cmd.color('red',\"resi 1040-1044\")\n",
    "cmd.zoom(\"resi 1040-1044\")\n",
    "\n",
    "cmd.png(\"ruvc resi 1040-1044.png\",dpi =500, ray =1)\n",
    "\n",
    "\n",
    "\n",
    "cmd.color(\"blue\", \"resi 892-1077+ resi 1254-1300\")\n",
    "# Change between apo and binary\n",
    "cmd.color('red', \"resi 943-958 + resi 976-994+ resi 1046-1053\")\n",
    "\n"
   ]
  },
  {
   "cell_type": "code",
   "execution_count": null,
   "metadata": {},
   "outputs": [],
   "source": [
    "cmd.distance(\"(/chain A///880/C)\",\"(/chain C///20/C*)\")"
   ]
  },
  {
   "cell_type": "code",
   "execution_count": null,
   "metadata": {},
   "outputs": [],
   "source": [
    " cmd.distance(\"(/mol1///1/C)\",\"(/mol1///2/C*)\")"
   ]
  },
  {
   "cell_type": "code",
   "execution_count": null,
   "metadata": {},
   "outputs": [],
   "source": [
    " You clicked /5NFV/A/A/ILE`22/CA"
   ]
  },
  {
   "cell_type": "code",
   "execution_count": null,
   "metadata": {},
   "outputs": [],
   "source": [
    "cmd.distance(\"mydistance\",\"14/CA\", \"29/CA\")"
   ]
  },
  {
   "cell_type": "code",
   "execution_count": null,
   "metadata": {},
   "outputs": [],
   "source": [
    "cmd.distance(\"mydist1\", \"/5NFV/A/A/28/CA\", \"/5NFV/A/A/22/CA\")\n",
    "cmd.distance(\"mydist1\", \"/5NFV/C/C/28/CA\", \"/5NFV/A/A/22\", cutoff=30)"
   ]
  },
  {
   "cell_type": "code",
   "execution_count": null,
   "metadata": {},
   "outputs": [],
   "source": []
  },
  {
   "cell_type": "code",
   "execution_count": null,
   "metadata": {},
   "outputs": [],
   "source": [
    "cmd.color(\"lavender\", \"resi 892-1077+ resi 1254-1300\")\n",
    "cmd.color('blue', \"resi 943-958 + resi 976-994+ resi 1046-1053\")\n",
    "cmd.color('red', \"resi 943-958 + resi 976-994+ resi 1046-1053\")"
   ]
  },
  {
   "cell_type": "code",
   "execution_count": 9,
   "metadata": {},
   "outputs": [
    {
     "ename": "NameError",
     "evalue": "name 'cmd' is not defined",
     "output_type": "error",
     "traceback": [
      "\u001b[0;31m---------------------------------------------------------------------------\u001b[0m",
      "\u001b[0;31mNameError\u001b[0m                                 Traceback (most recent call last)",
      "\u001b[0;32m<ipython-input-9-0ba0eac38ef5>\u001b[0m in \u001b[0;36m<module>\u001b[0;34m()\u001b[0m\n\u001b[1;32m      1\u001b[0m \u001b[0;31m# Wedge and PI domain 5NFV, 5NG6\u001b[0m\u001b[0;34m\u001b[0m\u001b[0;34m\u001b[0m\u001b[0m\n\u001b[0;32m----> 2\u001b[0;31m \u001b[0mcmd\u001b[0m\u001b[0;34m.\u001b[0m\u001b[0mhide\u001b[0m\u001b[0;34m(\u001b[0m\u001b[0;34m)\u001b[0m\u001b[0;34m\u001b[0m\u001b[0m\n\u001b[0m\u001b[1;32m      3\u001b[0m \u001b[0mcmd\u001b[0m\u001b[0;34m.\u001b[0m\u001b[0mshow\u001b[0m\u001b[0;34m(\u001b[0m\u001b[0;34m\"cartoon\"\u001b[0m\u001b[0;34m,\u001b[0m \u001b[0;34m\"resi 591-661 + resi 763-891+ resi 1-23\"\u001b[0m\u001b[0;34m)\u001b[0m\u001b[0;34m\u001b[0m\u001b[0m\n\u001b[1;32m      4\u001b[0m \u001b[0mcmd\u001b[0m\u001b[0;34m.\u001b[0m\u001b[0mshow\u001b[0m\u001b[0;34m(\u001b[0m\u001b[0;34m\"cartoon\"\u001b[0m\u001b[0;34m,\u001b[0m \u001b[0;34m\"resi 662-762\"\u001b[0m\u001b[0;34m)\u001b[0m\u001b[0;34m\u001b[0m\u001b[0m\n\u001b[1;32m      5\u001b[0m \u001b[0mcmd\u001b[0m\u001b[0;34m.\u001b[0m\u001b[0mshow\u001b[0m\u001b[0;34m(\u001b[0m\u001b[0;34m\"cartoon\"\u001b[0m\u001b[0;34m,\u001b[0m \u001b[0;34m\"chain B  + chain C + chain D +  chain H\"\u001b[0m\u001b[0;34m)\u001b[0m\u001b[0;34m\u001b[0m\u001b[0m\n",
      "\u001b[0;31mNameError\u001b[0m: name 'cmd' is not defined"
     ]
    }
   ],
   "source": [
    "# Wedge and PI domain 5NFV, 5NG6\n",
    "cmd.hide()\n",
    "cmd.show(\"cartoon\", \"resi 591-661 + resi 762-891+ resi 1-23\")\n",
    "\n",
    "cmd.show(\"cartoon\", \"chain B  + chain C + chain D +  chain H\")\n",
    "\n",
    "# WEDGE\n",
    "cmd.color(\"pink\", \"resi 591-661 + resi 762-891+ resi 1-23\")\n",
    "cmd.color(\"orange\", \"chain B\")\n",
    "cmd.color(\"marine\", \"chain C\")\n",
    "cmd.color(\"black\", \"chain D\")\n",
    "cmd.color(\"orange\", \"chain H\")\n",
    "\n",
    "# PI\n",
    "cmd.color(\"red\", \"resi 662-761\")\n",
    "cmd.show(\"cartoon\", \"resi 662-761\")\n",
    "\n",
    "\n",
    "\n",
    "\n",
    "\n",
    "\n",
    "# Decreased solvent accessibility from apo to binary to ternary\n",
    "cmd.color(\"dash\", \"resi 659-661\")\n",
    "cmd.png(\"resi 659-661\", dpi =500, ray =1)\n",
    "\n",
    "\n",
    "\n",
    "# Decreased solvent accessibility from binary to ternary\n",
    "cmd.color(\"dash\", \"resi 645-674\")\n",
    "cmd.png(\"resi 645-674\", dpi =500, ray =1)\n",
    "\n",
    "\n",
    "# Binary-Ternary(ss)\n",
    "\"resi 605-620\" # 6-8 deuterons loss \n",
    "cmd.color(\"dash\", \"resi 605-620\")\n",
    "cmd.zoom(\"resi 605-620\")\n",
    "cmd.png(\"resi 605-620 PI\", dpi =500, ray =1)\n",
    "\n",
    "#Apo-Binary\n",
    "\"resi 786-811\" # 6 deuterons loss\n",
    "\"resi 833-877\" # 10 deuterons loss\n",
    "\"resi 645-673\" #2 deuterons gain\n",
    "\n",
    "\n",
    "# Binary-Ternary(ss)\n",
    "\"resi 605-620\" # 6-8 deuterons loss \n",
    "\"resi 645-673\" # 4 deuterons gain\n",
    "\"resi 833-878\" # 3 deuterons gain\n",
    "\n",
    "# Wedge III\n",
    "\n",
    "\n",
    "\n",
    "\n",
    "\n",
    "\n",
    "\"resi 788-811\" # 6 deuterons gain from apo to binary but no gain or loss from binary to ternary\n",
    "cmd.color(\"dash\", \"resi 788-811\")\n",
    "cmd.zoom(\"resi 785-815\")\n",
    "cmd.png(\"wedge III, resi 788-811\", dpi =500, ray =1)\n",
    "\n",
    "\"resi 818-830\" # 1 deuterons gain from  Apo to Binary and 2 deuterons gain from binary to ternary\n",
    "cmd.color(\"dash\", \"resi 818-830\")\n",
    "cmd.zoom(\"resi 820-830\")\n",
    "cmd.png(\"wedge III, resi 818-830\", dpi =500, ray =1)\n",
    "\n",
    "\"resi 833-878\" # 9 deuterons gain from  Apo to Binary but 3 deuterons gain from binary to ternary\n",
    "\n",
    "cmd.color(\"dash\", \"resi 833-878\")\n",
    "cmd.zoom(\"resi 833-878\")\n",
    "cmd.png(\"wedge III, resi 833-878\", dpi =500, ray =1)"
   ]
  },
  {
   "cell_type": "code",
   "execution_count": 1,
   "metadata": {},
   "outputs": [
    {
     "ename": "NameError",
     "evalue": "name 'cmd' is not defined",
     "output_type": "error",
     "traceback": [
      "\u001b[0;31m---------------------------------------------------------------------------\u001b[0m",
      "\u001b[0;31mNameError\u001b[0m                                 Traceback (most recent call last)",
      "\u001b[0;32m<ipython-input-1-62193b51e844>\u001b[0m in \u001b[0;36m<module>\u001b[0;34m()\u001b[0m\n\u001b[1;32m      1\u001b[0m \u001b[0;31m# Rec domain 5NFV, 5NG6\u001b[0m\u001b[0;34m\u001b[0m\u001b[0;34m\u001b[0m\u001b[0m\n\u001b[0;32m----> 2\u001b[0;31m \u001b[0mcmd\u001b[0m\u001b[0;34m.\u001b[0m\u001b[0mhide\u001b[0m\u001b[0;34m(\u001b[0m\u001b[0;34m)\u001b[0m\u001b[0;34m\u001b[0m\u001b[0m\n\u001b[0m\u001b[1;32m      3\u001b[0m \u001b[0mcmd\u001b[0m\u001b[0;34m.\u001b[0m\u001b[0mshow\u001b[0m\u001b[0;34m(\u001b[0m\u001b[0;34m\"cartoon\"\u001b[0m\u001b[0;34m,\u001b[0m \u001b[0;34m\"resi 24-338 + resi 339-590\"\u001b[0m\u001b[0;34m)\u001b[0m\u001b[0;34m\u001b[0m\u001b[0m\n\u001b[1;32m      4\u001b[0m \u001b[0mcmd\u001b[0m\u001b[0;34m.\u001b[0m\u001b[0mshow\u001b[0m\u001b[0;34m(\u001b[0m\u001b[0;34m\"cartoon\"\u001b[0m\u001b[0;34m,\u001b[0m \u001b[0;34m\"chain B  + chain C + chain D +  chain H\"\u001b[0m\u001b[0;34m)\u001b[0m\u001b[0;34m\u001b[0m\u001b[0m\n\u001b[1;32m      5\u001b[0m \u001b[0;34m\u001b[0m\u001b[0m\n",
      "\u001b[0;31mNameError\u001b[0m: name 'cmd' is not defined"
     ]
    }
   ],
   "source": [
    "# Rec domain 5NFV, 5NG6 for resi 167-177\n",
    "cmd.hide()\n",
    "cmd.show(\"cartoon\", \"resi 24-338 + resi 339-590\")\n",
    "cmd.show(\"cartoon\", \"chain B  + chain C + chain D +  chain H\")\n",
    "\n",
    "cmd.color(\"orange\", \"chain B\")\n",
    "cmd.color(\"marine\", \"chain C\")\n",
    "cmd.color(\"black\", \"chain D\")\n",
    "cmd.color(\"orange\", \"chain H\")\n",
    "\n",
    "\n",
    "cmd.color(\"grey\", \"resi 24-338\")\n",
    "cmd.color(\"gray3\", \"resi 339-590\")\n",
    "\n",
    "cmd.color(\"blue\", \"resi 169-177\")\n",
    "cmd.zoom(\"resi 165-180\")\n",
    "\n",
    "# Recognition domain\n",
    "#By analyzing overlapping sequence , I found that resi 25-32 has 3 dueteron less uptake from apo to binary\n",
    "\n",
    "\"resi 25-32\" # 3 duetorons\n",
    "\n",
    "cmd.png(\"rec1 resi 167-178.png\",dpi =500, ray =1)"
   ]
  },
  {
   "cell_type": "code",
   "execution_count": null,
   "metadata": {},
   "outputs": [],
   "source": [
    "cmd.color(\"blue\", \"resi 598-620\")"
   ]
  },
  {
   "cell_type": "code",
   "execution_count": 8,
   "metadata": {},
   "outputs": [
    {
     "data": {
      "text/plain": [
       "1"
      ]
     },
     "execution_count": 8,
     "metadata": {},
     "output_type": "execute_result"
    }
   ],
   "source": [
    "cmd.png(\"cd /Users/Antara/Desktop/Google Drive/CRISPR_RNA/Pymol_Script/Cas12a_ternary\", dpi =500, ray =1)"
   ]
  },
  {
   "cell_type": "code",
   "execution_count": null,
   "metadata": {},
   "outputs": [],
   "source": [
    "cmd.png(\"Cas12a_ternary.png\")\n",
    "cmd.save(\"Cas12a_ternary.pdb\")\n",
    "cmd.save(\"Cas12a_ternary.pse\")"
   ]
  },
  {
   "cell_type": "code",
   "execution_count": null,
   "metadata": {},
   "outputs": [],
   "source": [
    "cmd.save(\"Cas12a_ternary.pdb\")"
   ]
  },
  {
   "cell_type": "code",
   "execution_count": null,
   "metadata": {},
   "outputs": [],
   "source": [
    "cmd.save(\"Cas12a_ternary\".{pdb,pse})"
   ]
  },
  {
   "cell_type": "code",
   "execution_count": 3,
   "metadata": {},
   "outputs": [
    {
     "name": "stdout",
     "output_type": "stream",
     "text": [
      " PyMOL not running, entering library mode (experimental)\n"
     ]
    }
   ],
   "source": [
    "from pymol import cmd\n",
    "cmd.fetch(\"5NG6\")\n",
    "cmd.fetch(\"5NG6\")\n",
    "cmd.hide()\n",
    "cmd.show(\"cartoon\", \"resi 24-590\")\n",
    "cmd.show(\"cartoon\", \"chain H\")\n",
    "cmd.color(\"orange\", \"chain H\")\n"
   ]
  },
  {
   "cell_type": "code",
   "execution_count": null,
   "metadata": {},
   "outputs": [],
   "source": [
    "cmd.color(\"yellow\", \"chain H\")\n"
   ]
  },
  {
   "cell_type": "code",
   "execution_count": null,
   "metadata": {},
   "outputs": [],
   "source": [
    "cmd.fetch(\"5NFV\")\n",
    "cmd.hide()\n",
    "cmd.show(\"cartoon\", \"resi 24-590\")\n",
    "cmd.show(\"cartoon\", \"chain H\")\n",
    "cmd.color(\"orange\", \"chain H\")"
   ]
  },
  {
   "cell_type": "code",
   "execution_count": null,
   "metadata": {},
   "outputs": [],
   "source": [
    "cmd.show(\"cartoon\", \"chain B\")\n",
    "cmd.color(\"orange\", \"chain B\")\n",
    "cmd.show(\"cartoon\", \"chain C\")\n",
    "cmd.color(\"marine\", \"chain C\")\n",
    "cmd.show(\"cartoon\", \"chain D\")\n",
    "cmd.color(\"black\", \"chain D\")"
   ]
  },
  {
   "cell_type": "code",
   "execution_count": null,
   "metadata": {},
   "outputs": [],
   "source": [
    "#Wedge domain\n",
    "#Apo-Binary\n",
    "\"resi 786-811\" # 6 deuterons loss\n",
    "\"resi 833-877\" # 10 deuterons loss\n",
    "\"resi 645-673\" #2 deuterons gain\n",
    "\n",
    "\n",
    "# Binary-Ternary(ss)\n",
    "\"resi 605-620\" # 6-8 deuterons loss \n",
    "\"resi 645-673\" #4 deuterons gain\n",
    "\"resi 833-878\" # 3 deuterons gain"
   ]
  },
  {
   "cell_type": "code",
   "execution_count": 8,
   "metadata": {},
   "outputs": [
    {
     "ename": "ImportError",
     "evalue": "cannot import name 'get_colors'",
     "output_type": "error",
     "traceback": [
      "\u001b[0;31m---------------------------------------------------------------------------\u001b[0m",
      "\u001b[0;31mImportError\u001b[0m                               Traceback (most recent call last)",
      "\u001b[0;32m<ipython-input-8-3e9ac79fb33d>\u001b[0m in \u001b[0;36m<module>\u001b[0;34m()\u001b[0m\n\u001b[1;32m      4\u001b[0m \u001b[0;34m\u001b[0m\u001b[0m\n\u001b[1;32m      5\u001b[0m \u001b[0;31m#get disco funky\u001b[0m\u001b[0;34m\u001b[0m\u001b[0;34m\u001b[0m\u001b[0m\n\u001b[0;32m----> 6\u001b[0;31m \u001b[0;32mfrom\u001b[0m \u001b[0mcmd\u001b[0m \u001b[0;32mimport\u001b[0m \u001b[0mget_colors\u001b[0m\u001b[0;34m\u001b[0m\u001b[0m\n\u001b[0m\u001b[1;32m      7\u001b[0m \u001b[0;32mfrom\u001b[0m \u001b[0mget_colors\u001b[0m \u001b[0;32mimport\u001b[0m \u001b[0mget_colors\u001b[0m\u001b[0;34m\u001b[0m\u001b[0m\n\u001b[1;32m      8\u001b[0m \u001b[0;32mfrom\u001b[0m \u001b[0mget_colors\u001b[0m \u001b[0;32mimport\u001b[0m \u001b[0mget_random_color\u001b[0m\u001b[0;34m\u001b[0m\u001b[0m\n",
      "\u001b[0;31mImportError\u001b[0m: cannot import name 'get_colors'"
     ]
    }
   ],
   "source": [
    "# basic example\n",
    "#get_colors # basic colors\n",
    "#get colors all # larger range with intermediates\n",
    "\n",
    "#get disco funky\n",
    "from cmd import get_colors\n",
    "from get_colors import get_colors\n",
    "from get_colors import get_random_color\n",
    "\n",
    "cmd.delete('all')\n",
    "cmd.fetch('1LSD', async=0) # :P\n",
    "cmd.hide('everything')\n",
    "cmd.show_as('sticks','not hetatm')\n",
    "cmd.orient()\n",
    "\n",
    "python # start a python block\n",
    "from pymol import stored\n",
    "stored.atom_list=[]\n",
    "cmd.iterate('name CA','stored.atom_list.append([model, resi])')\n",
    "resi_list=[\"model %s and resi %s\"%(value[0],value[1]) for value in stored.atom_list]\n",
    "for resi in resi_list: cmd.color(get_random_color(),resi)\n",
    "#python end #"
   ]
  },
  {
   "cell_type": "code",
   "execution_count": null,
   "metadata": {},
   "outputs": [],
   "source": []
  }
 ],
 "metadata": {
  "kernelspec": {
   "display_name": "Python 3",
   "language": "python",
   "name": "python3"
  },
  "language_info": {
   "codemirror_mode": {
    "name": "ipython",
    "version": 3
   },
   "file_extension": ".py",
   "mimetype": "text/x-python",
   "name": "python",
   "nbconvert_exporter": "python",
   "pygments_lexer": "ipython3",
   "version": "3.6.5"
  }
 },
 "nbformat": 4,
 "nbformat_minor": 2
}
